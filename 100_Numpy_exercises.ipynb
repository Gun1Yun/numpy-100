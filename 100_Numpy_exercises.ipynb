{
 "cells": [
  {
   "cell_type": "markdown",
   "metadata": {},
   "source": [
    "# 100 numpy exercises\n",
    "\n",
    "This is a collection of exercises that have been collected in the numpy mailing list, on stack overflow\n",
    "and in the numpy documentation. The goal of this collection is to offer a quick reference for both old\n",
    "and new users but also to provide a set of exercises for those who teach.\n",
    "\n",
    "\n",
    "If you find an error or think you've a better way to solve some of them, feel\n",
    "free to open an issue at <https://github.com/rougier/numpy-100>."
   ]
  },
  {
   "cell_type": "markdown",
   "metadata": {},
   "source": [
    "File automatically generated. See the documentation to update questions/answers/hints programmatically."
   ]
  },
  {
   "cell_type": "markdown",
   "metadata": {},
   "source": [
    "Run the `initialize.py` module, then for each question you can query the\n",
    "answer or an hint with `hint(n)` or `answer(n)` for `n` question number."
   ]
  },
  {
   "cell_type": "code",
   "execution_count": 1,
   "metadata": {},
   "outputs": [],
   "source": [
    "%run initialise.py"
   ]
  },
  {
   "cell_type": "markdown",
   "metadata": {},
   "source": [
    "#### 1. Import the numpy package under the name `np` (★☆☆)"
   ]
  },
  {
   "cell_type": "code",
   "execution_count": 2,
   "metadata": {},
   "outputs": [],
   "source": [
    "import numpy as np"
   ]
  },
  {
   "cell_type": "code",
   "execution_count": 3,
   "metadata": {},
   "outputs": [
    {
     "name": "stdout",
     "output_type": "stream",
     "text": [
      "import numpy as np\n"
     ]
    }
   ],
   "source": [
    "answer(1)"
   ]
  },
  {
   "cell_type": "markdown",
   "metadata": {},
   "source": [
    "#### 2. Print the numpy version and the configuration (★☆☆)"
   ]
  },
  {
   "cell_type": "code",
   "execution_count": 4,
   "metadata": {},
   "outputs": [
    {
     "name": "stdout",
     "output_type": "stream",
     "text": [
      "1.18.1\n"
     ]
    }
   ],
   "source": [
    "print(np.__version__)"
   ]
  },
  {
   "cell_type": "markdown",
   "metadata": {},
   "source": [
    "#### 3. Create a null vector of size 10 (★☆☆)"
   ]
  },
  {
   "cell_type": "code",
   "execution_count": 5,
   "metadata": {},
   "outputs": [
    {
     "name": "stdout",
     "output_type": "stream",
     "text": [
      "[0. 0. 0. 0. 0. 0. 0. 0. 0. 0.]\n"
     ]
    }
   ],
   "source": [
    "null_vector = np.zeros(10)\n",
    "print(null_vector)"
   ]
  },
  {
   "cell_type": "markdown",
   "metadata": {},
   "source": [
    "#### 4. How to find the memory size of any array (★☆☆)"
   ]
  },
  {
   "cell_type": "code",
   "execution_count": 6,
   "metadata": {},
   "outputs": [
    {
     "name": "stdout",
     "output_type": "stream",
     "text": [
      "80 bytes \n"
     ]
    }
   ],
   "source": [
    "print('%d bytes ' % (null_vector.size * null_vector.itemsize))"
   ]
  },
  {
   "cell_type": "markdown",
   "metadata": {},
   "source": [
    "#### 5. How to get the documentation of the numpy add function from the command line? (★☆☆)"
   ]
  },
  {
   "cell_type": "code",
   "execution_count": 7,
   "metadata": {},
   "outputs": [
    {
     "name": "stdout",
     "output_type": "stream",
     "text": [
      "add(x1, x2, /, out=None, *, where=True, casting='same_kind', order='K', dtype=None, subok=True[, signature, extobj])\n",
      "\n",
      "Add arguments element-wise.\n",
      "\n",
      "Parameters\n",
      "----------\n",
      "x1, x2 : array_like\n",
      "    The arrays to be added. If ``x1.shape != x2.shape``, they must be broadcastable to a common shape (which becomes the shape of the output).\n",
      "out : ndarray, None, or tuple of ndarray and None, optional\n",
      "    A location into which the result is stored. If provided, it must have\n",
      "    a shape that the inputs broadcast to. If not provided or None,\n",
      "    a freshly-allocated array is returned. A tuple (possible only as a\n",
      "    keyword argument) must have length equal to the number of outputs.\n",
      "where : array_like, optional\n",
      "    This condition is broadcast over the input. At locations where the\n",
      "    condition is True, the `out` array will be set to the ufunc result.\n",
      "    Elsewhere, the `out` array will retain its original value.\n",
      "    Note that if an uninitialized `out` array is created via the default\n",
      "    ``out=None``, locations within it where the condition is False will\n",
      "    remain uninitialized.\n",
      "**kwargs\n",
      "    For other keyword-only arguments, see the\n",
      "    :ref:`ufunc docs <ufuncs.kwargs>`.\n",
      "\n",
      "Returns\n",
      "-------\n",
      "add : ndarray or scalar\n",
      "    The sum of `x1` and `x2`, element-wise.\n",
      "    This is a scalar if both `x1` and `x2` are scalars.\n",
      "\n",
      "Notes\n",
      "-----\n",
      "Equivalent to `x1` + `x2` in terms of array broadcasting.\n",
      "\n",
      "Examples\n",
      "--------\n",
      ">>> np.add(1.0, 4.0)\n",
      "5.0\n",
      ">>> x1 = np.arange(9.0).reshape((3, 3))\n",
      ">>> x2 = np.arange(3.0)\n",
      ">>> np.add(x1, x2)\n",
      "array([[  0.,   2.,   4.],\n",
      "       [  3.,   5.,   7.],\n",
      "       [  6.,   8.,  10.]])\n"
     ]
    }
   ],
   "source": [
    "np.info(np.add)"
   ]
  },
  {
   "cell_type": "markdown",
   "metadata": {},
   "source": [
    "#### 6. Create a null vector of size 10 but the fifth value which is 1 (★☆☆)"
   ]
  },
  {
   "cell_type": "code",
   "execution_count": 8,
   "metadata": {},
   "outputs": [
    {
     "name": "stdout",
     "output_type": "stream",
     "text": [
      "[0. 0. 0. 0. 1. 0. 0. 0. 0. 0.]\n"
     ]
    }
   ],
   "source": [
    "nv = np.zeros(10)\n",
    "nv[4] = 1\n",
    "print(nv)"
   ]
  },
  {
   "cell_type": "markdown",
   "metadata": {},
   "source": [
    "#### 7. Create a vector with values ranging from 10 to 49 (★☆☆)"
   ]
  },
  {
   "cell_type": "code",
   "execution_count": 9,
   "metadata": {},
   "outputs": [
    {
     "name": "stdout",
     "output_type": "stream",
     "text": [
      "[10 11 12 13 14 15 16 17 18 19 20 21 22 23 24 25 26 27 28 29 30 31 32 33\n",
      " 34 35 36 37 38 39 40 41 42 43 44 45 46 47 48 49]\n"
     ]
    }
   ],
   "source": [
    "v = np.arange(10, 50)\n",
    "print(v)"
   ]
  },
  {
   "cell_type": "markdown",
   "metadata": {},
   "source": [
    "#### 8. Reverse a vector (first element becomes last) (★☆☆)"
   ]
  },
  {
   "cell_type": "code",
   "execution_count": 10,
   "metadata": {},
   "outputs": [
    {
     "name": "stdout",
     "output_type": "stream",
     "text": [
      "[49 48 47 46 45 44 43 42 41 40 39 38 37 36 35 34 33 32 31 30 29 28 27 26\n",
      " 25 24 23 22 21 20 19 18 17 16 15 14 13 12 11 10]\n"
     ]
    }
   ],
   "source": [
    "v = v[::-1]\n",
    "print(v)"
   ]
  },
  {
   "cell_type": "markdown",
   "metadata": {},
   "source": [
    "#### 9. Create a 3x3 matrix with values ranging from 0 to 8 (★☆☆)"
   ]
  },
  {
   "cell_type": "code",
   "execution_count": 11,
   "metadata": {},
   "outputs": [
    {
     "name": "stdout",
     "output_type": "stream",
     "text": [
      "[[0 1 2]\n",
      " [3 4 5]\n",
      " [6 7 8]]\n"
     ]
    }
   ],
   "source": [
    "m = np.arange(0,9)\n",
    "m = m.reshape(3,-1)\n",
    "print(m)"
   ]
  },
  {
   "cell_type": "markdown",
   "metadata": {},
   "source": [
    "#### 10. Find indices of non-zero elements from [1,2,0,0,4,0] (★☆☆)"
   ]
  },
  {
   "cell_type": "code",
   "execution_count": 12,
   "metadata": {},
   "outputs": [
    {
     "name": "stdout",
     "output_type": "stream",
     "text": [
      "(array([0, 1, 4], dtype=int64),)\n"
     ]
    }
   ],
   "source": [
    "v = np.array([1,2,0,0,4,0])\n",
    "print(np.nonzero(v))"
   ]
  },
  {
   "cell_type": "markdown",
   "metadata": {},
   "source": [
    "#### 11. Create a 3x3 identity matrix (★☆☆)"
   ]
  },
  {
   "cell_type": "code",
   "execution_count": 13,
   "metadata": {},
   "outputs": [
    {
     "name": "stdout",
     "output_type": "stream",
     "text": [
      "[[1. 0. 0.]\n",
      " [0. 1. 0.]\n",
      " [0. 0. 1.]]\n"
     ]
    }
   ],
   "source": [
    "v = np.eye(3)\n",
    "print(v)"
   ]
  },
  {
   "cell_type": "markdown",
   "metadata": {},
   "source": [
    "#### 12. Create a 3x3x3 array with random values (★☆☆)"
   ]
  },
  {
   "cell_type": "code",
   "execution_count": 14,
   "metadata": {},
   "outputs": [
    {
     "data": {
      "text/plain": [
       "array([[[0.13169647, 0.40993462, 0.9456024 ],\n",
       "        [0.60273662, 0.43490814, 0.19572115],\n",
       "        [0.21737515, 0.21857789, 0.84018733]],\n",
       "\n",
       "       [[0.97173821, 0.48197187, 0.38532985],\n",
       "        [0.94176513, 0.0449774 , 0.2535296 ],\n",
       "        [0.46252916, 0.7981434 , 0.67479155]],\n",
       "\n",
       "       [[0.99374868, 0.10559001, 0.38867716],\n",
       "        [0.70775757, 0.62343168, 0.59425155],\n",
       "        [0.69799839, 0.33544075, 0.51690272]]])"
      ]
     },
     "execution_count": 14,
     "metadata": {},
     "output_type": "execute_result"
    }
   ],
   "source": [
    "v = np.random.random(27).reshape(3,3,-1)\n",
    "# v = np.random.random((3,3,3))\n",
    "v"
   ]
  },
  {
   "cell_type": "markdown",
   "metadata": {},
   "source": [
    "#### 13. Create a 10x10 array with random values and find the minimum and maximum values (★☆☆)"
   ]
  },
  {
   "cell_type": "code",
   "execution_count": 15,
   "metadata": {},
   "outputs": [
    {
     "name": "stdout",
     "output_type": "stream",
     "text": [
      "[[0.74257212 0.82415871 0.66235333 0.41165787 0.78329044 0.19869866\n",
      "  0.12497778 0.04529187 0.12799925 0.15392313]\n",
      " [0.60251569 0.2253207  0.57293411 0.32718527 0.70175918 0.40849559\n",
      "  0.21186651 0.2102699  0.13424463 0.26306668]\n",
      " [0.13945493 0.89013339 0.76543411 0.19493705 0.9247725  0.70539963\n",
      "  0.94876882 0.3754726  0.22253415 0.06977497]\n",
      " [0.79072346 0.12133122 0.71183233 0.96875002 0.43034423 0.46934994\n",
      "  0.43698174 0.82535733 0.46205134 0.55489177]\n",
      " [0.10514804 0.17980493 0.63307194 0.69313382 0.32937681 0.64267459\n",
      "  0.73950845 0.16133478 0.58523723 0.54064181]\n",
      " [0.25598858 0.61599069 0.50615605 0.75169852 0.06450735 0.13280241\n",
      "  0.62173489 0.1263992  0.3203206  0.87431667]\n",
      " [0.71585899 0.08004508 0.62201693 0.09168644 0.45343711 0.35693362\n",
      "  0.08597243 0.80027219 0.84097466 0.53290571]\n",
      " [0.09309301 0.08861827 0.63165353 0.165364   0.19061375 0.10554548\n",
      "  0.17354453 0.26158998 0.9917259  0.25024504]\n",
      " [0.22989547 0.54552769 0.00695035 0.27530442 0.51632171 0.833096\n",
      "  0.56867269 0.00911016 0.41616968 0.71371864]\n",
      " [0.07872167 0.84746876 0.87163725 0.16149572 0.18568867 0.56655016\n",
      "  0.68272729 0.80137224 0.58456922 0.27144255]]\n",
      "0.9917258964110893\n",
      "0.006950347710682037\n"
     ]
    }
   ],
   "source": [
    "v = np.random.random((10, 10))\n",
    "print(v)\n",
    "# v.max(), v.min()\n",
    "print(np.max(v))\n",
    "print(np.min(v))"
   ]
  },
  {
   "cell_type": "markdown",
   "metadata": {},
   "source": [
    "#### 14. Create a random vector of size 30 and find the mean value (★☆☆)"
   ]
  },
  {
   "cell_type": "code",
   "execution_count": 16,
   "metadata": {},
   "outputs": [
    {
     "name": "stdout",
     "output_type": "stream",
     "text": [
      "0.4801503845519762\n"
     ]
    }
   ],
   "source": [
    "v = np.random.random(30)\n",
    "print(v.mean())"
   ]
  },
  {
   "cell_type": "markdown",
   "metadata": {},
   "source": [
    "#### 15. Create a 2d array with 1 on the border and 0 inside (★☆☆)"
   ]
  },
  {
   "cell_type": "code",
   "execution_count": 17,
   "metadata": {},
   "outputs": [
    {
     "name": "stdout",
     "output_type": "stream",
     "text": [
      "[[1. 1. 1. 1. 1.]\n",
      " [1. 0. 0. 0. 1.]\n",
      " [1. 0. 0. 0. 1.]\n",
      " [1. 0. 0. 0. 1.]\n",
      " [1. 1. 1. 1. 1.]]\n"
     ]
    }
   ],
   "source": [
    "v = np.ones((5,5))\n",
    "v[1:-1, 1:-1] = 0\n",
    "print(v)"
   ]
  },
  {
   "cell_type": "markdown",
   "metadata": {},
   "source": [
    "#### 16. How to add a border (filled with 0's) around an existing array? (★☆☆)"
   ]
  },
  {
   "cell_type": "code",
   "execution_count": 18,
   "metadata": {},
   "outputs": [
    {
     "name": "stdout",
     "output_type": "stream",
     "text": [
      " pad(*args, **kwargs)\n",
      "\n",
      "Pad an array.\n",
      "\n",
      "Parameters\n",
      "----------\n",
      "array : array_like of rank N\n",
      "    The array to pad.\n",
      "pad_width : {sequence, array_like, int}\n",
      "    Number of values padded to the edges of each axis.\n",
      "    ((before_1, after_1), ... (before_N, after_N)) unique pad widths\n",
      "    for each axis.\n",
      "    ((before, after),) yields same before and after pad for each axis.\n",
      "    (pad,) or int is a shortcut for before = after = pad width for all\n",
      "    axes.\n",
      "mode : str or function, optional\n",
      "    One of the following string values or a user supplied function.\n",
      "\n",
      "    'constant' (default)\n",
      "        Pads with a constant value.\n",
      "    'edge'\n",
      "        Pads with the edge values of array.\n",
      "    'linear_ramp'\n",
      "        Pads with the linear ramp between end_value and the\n",
      "        array edge value.\n",
      "    'maximum'\n",
      "        Pads with the maximum value of all or part of the\n",
      "        vector along each axis.\n",
      "    'mean'\n",
      "        Pads with the mean value of all or part of the\n",
      "        vector along each axis.\n",
      "    'median'\n",
      "        Pads with the median value of all or part of the\n",
      "        vector along each axis.\n",
      "    'minimum'\n",
      "        Pads with the minimum value of all or part of the\n",
      "        vector along each axis.\n",
      "    'reflect'\n",
      "        Pads with the reflection of the vector mirrored on\n",
      "        the first and last values of the vector along each\n",
      "        axis.\n",
      "    'symmetric'\n",
      "        Pads with the reflection of the vector mirrored\n",
      "        along the edge of the array.\n",
      "    'wrap'\n",
      "        Pads with the wrap of the vector along the axis.\n",
      "        The first values are used to pad the end and the\n",
      "        end values are used to pad the beginning.\n",
      "    'empty'\n",
      "        Pads with undefined values.\n",
      "\n",
      "        .. versionadded:: 1.17\n",
      "\n",
      "    <function>\n",
      "        Padding function, see Notes.\n",
      "stat_length : sequence or int, optional\n",
      "    Used in 'maximum', 'mean', 'median', and 'minimum'.  Number of\n",
      "    values at edge of each axis used to calculate the statistic value.\n",
      "\n",
      "    ((before_1, after_1), ... (before_N, after_N)) unique statistic\n",
      "    lengths for each axis.\n",
      "\n",
      "    ((before, after),) yields same before and after statistic lengths\n",
      "    for each axis.\n",
      "\n",
      "    (stat_length,) or int is a shortcut for before = after = statistic\n",
      "    length for all axes.\n",
      "\n",
      "    Default is ``None``, to use the entire axis.\n",
      "constant_values : sequence or scalar, optional\n",
      "    Used in 'constant'.  The values to set the padded values for each\n",
      "    axis.\n",
      "\n",
      "    ``((before_1, after_1), ... (before_N, after_N))`` unique pad constants\n",
      "    for each axis.\n",
      "\n",
      "    ``((before, after),)`` yields same before and after constants for each\n",
      "    axis.\n",
      "\n",
      "    ``(constant,)`` or ``constant`` is a shortcut for ``before = after = constant`` for\n",
      "    all axes.\n",
      "\n",
      "    Default is 0.\n",
      "end_values : sequence or scalar, optional\n",
      "    Used in 'linear_ramp'.  The values used for the ending value of the\n",
      "    linear_ramp and that will form the edge of the padded array.\n",
      "\n",
      "    ``((before_1, after_1), ... (before_N, after_N))`` unique end values\n",
      "    for each axis.\n",
      "\n",
      "    ``((before, after),)`` yields same before and after end values for each\n",
      "    axis.\n",
      "\n",
      "    ``(constant,)`` or ``constant`` is a shortcut for ``before = after = constant`` for\n",
      "    all axes.\n",
      "\n",
      "    Default is 0.\n",
      "reflect_type : {'even', 'odd'}, optional\n",
      "    Used in 'reflect', and 'symmetric'.  The 'even' style is the\n",
      "    default with an unaltered reflection around the edge value.  For\n",
      "    the 'odd' style, the extended part of the array is created by\n",
      "    subtracting the reflected values from two times the edge value.\n",
      "\n",
      "Returns\n",
      "-------\n",
      "pad : ndarray\n",
      "    Padded array of rank equal to `array` with shape increased\n",
      "    according to `pad_width`.\n",
      "\n",
      "Notes\n",
      "-----\n",
      ".. versionadded:: 1.7.0\n",
      "\n",
      "For an array with rank greater than 1, some of the padding of later\n",
      "axes is calculated from padding of previous axes.  This is easiest to\n",
      "think about with a rank 2 array where the corners of the padded array\n",
      "are calculated by using padded values from the first axis.\n",
      "\n",
      "The padding function, if used, should modify a rank 1 array in-place. It\n",
      "has the following signature::\n",
      "\n",
      "    padding_func(vector, iaxis_pad_width, iaxis, kwargs)\n",
      "\n",
      "where\n",
      "\n",
      "    vector : ndarray\n",
      "        A rank 1 array already padded with zeros.  Padded values are\n",
      "        vector[:iaxis_pad_width[0]] and vector[-iaxis_pad_width[1]:].\n",
      "    iaxis_pad_width : tuple\n",
      "        A 2-tuple of ints, iaxis_pad_width[0] represents the number of\n",
      "        values padded at the beginning of vector where\n",
      "        iaxis_pad_width[1] represents the number of values padded at\n",
      "        the end of vector.\n",
      "    iaxis : int\n",
      "        The axis currently being calculated.\n",
      "    kwargs : dict\n",
      "        Any keyword arguments the function requires.\n",
      "\n",
      "Examples\n",
      "--------\n",
      ">>> a = [1, 2, 3, 4, 5]\n",
      ">>> np.pad(a, (2, 3), 'constant', constant_values=(4, 6))\n",
      "array([4, 4, 1, ..., 6, 6, 6])\n",
      "\n",
      ">>> np.pad(a, (2, 3), 'edge')\n",
      "array([1, 1, 1, ..., 5, 5, 5])\n",
      "\n",
      ">>> np.pad(a, (2, 3), 'linear_ramp', end_values=(5, -4))\n",
      "array([ 5,  3,  1,  2,  3,  4,  5,  2, -1, -4])\n",
      "\n",
      ">>> np.pad(a, (2,), 'maximum')\n",
      "array([5, 5, 1, 2, 3, 4, 5, 5, 5])\n",
      "\n",
      ">>> np.pad(a, (2,), 'mean')\n",
      "array([3, 3, 1, 2, 3, 4, 5, 3, 3])\n",
      "\n",
      ">>> np.pad(a, (2,), 'median')\n",
      "array([3, 3, 1, 2, 3, 4, 5, 3, 3])\n",
      "\n",
      ">>> a = [[1, 2], [3, 4]]\n",
      ">>> np.pad(a, ((3, 2), (2, 3)), 'minimum')\n",
      "array([[1, 1, 1, 2, 1, 1, 1],\n",
      "       [1, 1, 1, 2, 1, 1, 1],\n",
      "       [1, 1, 1, 2, 1, 1, 1],\n",
      "       [1, 1, 1, 2, 1, 1, 1],\n",
      "       [3, 3, 3, 4, 3, 3, 3],\n",
      "       [1, 1, 1, 2, 1, 1, 1],\n",
      "       [1, 1, 1, 2, 1, 1, 1]])\n",
      "\n",
      ">>> a = [1, 2, 3, 4, 5]\n",
      ">>> np.pad(a, (2, 3), 'reflect')\n",
      "array([3, 2, 1, 2, 3, 4, 5, 4, 3, 2])\n",
      "\n",
      ">>> np.pad(a, (2, 3), 'reflect', reflect_type='odd')\n",
      "array([-1,  0,  1,  2,  3,  4,  5,  6,  7,  8])\n",
      "\n",
      ">>> np.pad(a, (2, 3), 'symmetric')\n",
      "array([2, 1, 1, 2, 3, 4, 5, 5, 4, 3])\n",
      "\n",
      ">>> np.pad(a, (2, 3), 'symmetric', reflect_type='odd')\n",
      "array([0, 1, 1, 2, 3, 4, 5, 5, 6, 7])\n",
      "\n",
      ">>> np.pad(a, (2, 3), 'wrap')\n",
      "array([4, 5, 1, 2, 3, 4, 5, 1, 2, 3])\n",
      "\n",
      ">>> def pad_with(vector, pad_width, iaxis, kwargs):\n",
      "...     pad_value = kwargs.get('padder', 10)\n",
      "...     vector[:pad_width[0]] = pad_value\n",
      "...     vector[-pad_width[1]:] = pad_value\n",
      ">>> a = np.arange(6)\n",
      ">>> a = a.reshape((2, 3))\n",
      ">>> np.pad(a, 2, pad_with)\n",
      "array([[10, 10, 10, 10, 10, 10, 10],\n",
      "       [10, 10, 10, 10, 10, 10, 10],\n",
      "       [10, 10,  0,  1,  2, 10, 10],\n",
      "       [10, 10,  3,  4,  5, 10, 10],\n",
      "       [10, 10, 10, 10, 10, 10, 10],\n",
      "       [10, 10, 10, 10, 10, 10, 10]])\n",
      ">>> np.pad(a, 2, pad_with, padder=100)\n",
      "array([[100, 100, 100, 100, 100, 100, 100],\n",
      "       [100, 100, 100, 100, 100, 100, 100],\n",
      "       [100, 100,   0,   1,   2, 100, 100],\n",
      "       [100, 100,   3,   4,   5, 100, 100],\n",
      "       [100, 100, 100, 100, 100, 100, 100],\n",
      "       [100, 100, 100, 100, 100, 100, 100]])\n"
     ]
    }
   ],
   "source": [
    "np.info(np.pad)"
   ]
  },
  {
   "cell_type": "code",
   "execution_count": 19,
   "metadata": {},
   "outputs": [
    {
     "data": {
      "text/plain": [
       "array([[0., 0., 0., 0., 0., 0., 0.],\n",
       "       [0., 1., 1., 1., 1., 1., 0.],\n",
       "       [0., 1., 1., 1., 1., 1., 0.],\n",
       "       [0., 1., 1., 1., 1., 1., 0.],\n",
       "       [0., 1., 1., 1., 1., 1., 0.],\n",
       "       [0., 1., 1., 1., 1., 1., 0.],\n",
       "       [0., 0., 0., 0., 0., 0., 0.]])"
      ]
     },
     "execution_count": 19,
     "metadata": {},
     "output_type": "execute_result"
    }
   ],
   "source": [
    "v = np.ones((5,5))\n",
    "v = np.pad(v, 1, 'constant', constant_values= 0)\n",
    "v"
   ]
  },
  {
   "cell_type": "markdown",
   "metadata": {},
   "source": [
    "#### 17. What is the result of the following expression? (★☆☆)\n",
    "```python\n",
    "0 * np.nan\n",
    "np.nan == np.nan\n",
    "np.inf > np.nan\n",
    "np.nan - np.nan\n",
    "np.nan in set([np.nan])\n",
    "0.3 == 3 * 0.1\n",
    "```"
   ]
  },
  {
   "cell_type": "code",
   "execution_count": 20,
   "metadata": {},
   "outputs": [
    {
     "name": "stdout",
     "output_type": "stream",
     "text": [
      "nan\n",
      "False\n",
      "False\n",
      "nan\n",
      "True\n",
      "False\n"
     ]
    }
   ],
   "source": [
    "print(0 * np.nan)\n",
    "print(np.nan == np.nan)\n",
    "print(np.inf < np.nan)\n",
    "print(np.nan - np.nan)\n",
    "print(np.nan in set([np.nan]))\n",
    "print(0.3 == 3 * 0.1)"
   ]
  },
  {
   "cell_type": "markdown",
   "metadata": {},
   "source": [
    "#### 18. Create a 5x5 matrix with values 1,2,3,4 just below the diagonal (★☆☆)"
   ]
  },
  {
   "cell_type": "code",
   "execution_count": 21,
   "metadata": {},
   "outputs": [
    {
     "name": "stdout",
     "output_type": "stream",
     "text": [
      "[[0 0 0 0 0]\n",
      " [1 0 0 0 0]\n",
      " [0 2 0 0 0]\n",
      " [0 0 3 0 0]\n",
      " [0 0 0 4 0]]\n"
     ]
    }
   ],
   "source": [
    "v = np.diag([1, 2, 3, 4], k=-1)\n",
    "print(v)"
   ]
  },
  {
   "cell_type": "code",
   "execution_count": 22,
   "metadata": {},
   "outputs": [
    {
     "name": "stdout",
     "output_type": "stream",
     "text": [
      " diag(*args, **kwargs)\n",
      "\n",
      "Extract a diagonal or construct a diagonal array.\n",
      "\n",
      "See the more detailed documentation for ``numpy.diagonal`` if you use this\n",
      "function to extract a diagonal and wish to write to the resulting array;\n",
      "whether it returns a copy or a view depends on what version of numpy you\n",
      "are using.\n",
      "\n",
      "Parameters\n",
      "----------\n",
      "v : array_like\n",
      "    If `v` is a 2-D array, return a copy of its `k`-th diagonal.\n",
      "    If `v` is a 1-D array, return a 2-D array with `v` on the `k`-th\n",
      "    diagonal.\n",
      "k : int, optional\n",
      "    Diagonal in question. The default is 0. Use `k>0` for diagonals\n",
      "    above the main diagonal, and `k<0` for diagonals below the main\n",
      "    diagonal.\n",
      "\n",
      "Returns\n",
      "-------\n",
      "out : ndarray\n",
      "    The extracted diagonal or constructed diagonal array.\n",
      "\n",
      "See Also\n",
      "--------\n",
      "diagonal : Return specified diagonals.\n",
      "diagflat : Create a 2-D array with the flattened input as a diagonal.\n",
      "trace : Sum along diagonals.\n",
      "triu : Upper triangle of an array.\n",
      "tril : Lower triangle of an array.\n",
      "\n",
      "Examples\n",
      "--------\n",
      ">>> x = np.arange(9).reshape((3,3))\n",
      ">>> x\n",
      "array([[0, 1, 2],\n",
      "       [3, 4, 5],\n",
      "       [6, 7, 8]])\n",
      "\n",
      ">>> np.diag(x)\n",
      "array([0, 4, 8])\n",
      ">>> np.diag(x, k=1)\n",
      "array([1, 5])\n",
      ">>> np.diag(x, k=-1)\n",
      "array([3, 7])\n",
      "\n",
      ">>> np.diag(np.diag(x))\n",
      "array([[0, 0, 0],\n",
      "       [0, 4, 0],\n",
      "       [0, 0, 8]])\n"
     ]
    }
   ],
   "source": [
    "np.info(np.diag)"
   ]
  },
  {
   "cell_type": "markdown",
   "metadata": {},
   "source": [
    "#### 19. Create a 8x8 matrix and fill it with a checkerboard pattern (★☆☆)"
   ]
  },
  {
   "cell_type": "code",
   "execution_count": 23,
   "metadata": {},
   "outputs": [
    {
     "name": "stdout",
     "output_type": "stream",
     "text": [
      "[[0. 1. 0. 1. 0. 1. 0. 1.]\n",
      " [1. 0. 1. 0. 1. 0. 1. 0.]\n",
      " [0. 1. 0. 1. 0. 1. 0. 1.]\n",
      " [1. 0. 1. 0. 1. 0. 1. 0.]\n",
      " [0. 1. 0. 1. 0. 1. 0. 1.]\n",
      " [1. 0. 1. 0. 1. 0. 1. 0.]\n",
      " [0. 1. 0. 1. 0. 1. 0. 1.]\n",
      " [1. 0. 1. 0. 1. 0. 1. 0.]]\n"
     ]
    }
   ],
   "source": [
    "v = np.ones((8, 8))\n",
    "v[::2,::2]=0\n",
    "v[1::2,1::2] = 0\n",
    "print(v)"
   ]
  },
  {
   "cell_type": "markdown",
   "metadata": {},
   "source": [
    "#### 20. Consider a (6,7,8) shape array, what is the index (x,y,z) of the 100th element?"
   ]
  },
  {
   "cell_type": "code",
   "execution_count": 24,
   "metadata": {},
   "outputs": [
    {
     "name": "stdout",
     "output_type": "stream",
     "text": [
      "(1, 5, 3)\n"
     ]
    }
   ],
   "source": [
    "print(np.unravel_index(99, (6, 7, 8)))"
   ]
  },
  {
   "cell_type": "code",
   "execution_count": 25,
   "metadata": {},
   "outputs": [
    {
     "name": "stdout",
     "output_type": "stream",
     "text": [
      " unravel_index(*args, **kwargs)\n",
      "\n",
      "unravel_index(indices, shape, order='C')\n",
      "\n",
      "Converts a flat index or array of flat indices into a tuple\n",
      "of coordinate arrays.\n",
      "\n",
      "Parameters\n",
      "----------\n",
      "indices : array_like\n",
      "    An integer array whose elements are indices into the flattened\n",
      "    version of an array of dimensions ``shape``. Before version 1.6.0,\n",
      "    this function accepted just one index value.\n",
      "shape : tuple of ints\n",
      "    The shape of the array to use for unraveling ``indices``.\n",
      "\n",
      "    .. versionchanged:: 1.16.0\n",
      "        Renamed from ``dims`` to ``shape``.\n",
      "\n",
      "order : {'C', 'F'}, optional\n",
      "    Determines whether the indices should be viewed as indexing in\n",
      "    row-major (C-style) or column-major (Fortran-style) order.\n",
      "\n",
      "    .. versionadded:: 1.6.0\n",
      "\n",
      "Returns\n",
      "-------\n",
      "unraveled_coords : tuple of ndarray\n",
      "    Each array in the tuple has the same shape as the ``indices``\n",
      "    array.\n",
      "\n",
      "See Also\n",
      "--------\n",
      "ravel_multi_index\n",
      "\n",
      "Examples\n",
      "--------\n",
      ">>> np.unravel_index([22, 41, 37], (7,6))\n",
      "(array([3, 6, 6]), array([4, 5, 1]))\n",
      ">>> np.unravel_index([31, 41, 13], (7,6), order='F')\n",
      "(array([3, 6, 6]), array([4, 5, 1]))\n",
      "\n",
      ">>> np.unravel_index(1621, (6,7,8,9))\n",
      "(3, 1, 4, 1)\n"
     ]
    }
   ],
   "source": [
    "np.info(np.unravel_index)"
   ]
  },
  {
   "cell_type": "markdown",
   "metadata": {},
   "source": [
    "#### 21. Create a checkerboard 8x8 matrix using the tile function (★☆☆)"
   ]
  },
  {
   "cell_type": "code",
   "execution_count": 26,
   "metadata": {},
   "outputs": [
    {
     "data": {
      "text/plain": [
       "array([[0, 1, 0, 1, 0, 1, 0, 1],\n",
       "       [1, 0, 1, 0, 1, 0, 1, 0],\n",
       "       [0, 1, 0, 1, 0, 1, 0, 1],\n",
       "       [1, 0, 1, 0, 1, 0, 1, 0],\n",
       "       [0, 1, 0, 1, 0, 1, 0, 1],\n",
       "       [1, 0, 1, 0, 1, 0, 1, 0],\n",
       "       [0, 1, 0, 1, 0, 1, 0, 1],\n",
       "       [1, 0, 1, 0, 1, 0, 1, 0]])"
      ]
     },
     "execution_count": 26,
     "metadata": {},
     "output_type": "execute_result"
    }
   ],
   "source": [
    "base = np.array([[0, 1], [1, 0]])\n",
    "checkboard = np.tile(base, (4, 4))\n",
    "checkboard"
   ]
  },
  {
   "cell_type": "code",
   "execution_count": 27,
   "metadata": {},
   "outputs": [
    {
     "name": "stdout",
     "output_type": "stream",
     "text": [
      " tile(*args, **kwargs)\n",
      "\n",
      "Construct an array by repeating A the number of times given by reps.\n",
      "\n",
      "If `reps` has length ``d``, the result will have dimension of\n",
      "``max(d, A.ndim)``.\n",
      "\n",
      "If ``A.ndim < d``, `A` is promoted to be d-dimensional by prepending new\n",
      "axes. So a shape (3,) array is promoted to (1, 3) for 2-D replication,\n",
      "or shape (1, 1, 3) for 3-D replication. If this is not the desired\n",
      "behavior, promote `A` to d-dimensions manually before calling this\n",
      "function.\n",
      "\n",
      "If ``A.ndim > d``, `reps` is promoted to `A`.ndim by pre-pending 1's to it.\n",
      "Thus for an `A` of shape (2, 3, 4, 5), a `reps` of (2, 2) is treated as\n",
      "(1, 1, 2, 2).\n",
      "\n",
      "Note : Although tile may be used for broadcasting, it is strongly\n",
      "recommended to use numpy's broadcasting operations and functions.\n",
      "\n",
      "Parameters\n",
      "----------\n",
      "A : array_like\n",
      "    The input array.\n",
      "reps : array_like\n",
      "    The number of repetitions of `A` along each axis.\n",
      "\n",
      "Returns\n",
      "-------\n",
      "c : ndarray\n",
      "    The tiled output array.\n",
      "\n",
      "See Also\n",
      "--------\n",
      "repeat : Repeat elements of an array.\n",
      "broadcast_to : Broadcast an array to a new shape\n",
      "\n",
      "Examples\n",
      "--------\n",
      ">>> a = np.array([0, 1, 2])\n",
      ">>> np.tile(a, 2)\n",
      "array([0, 1, 2, 0, 1, 2])\n",
      ">>> np.tile(a, (2, 2))\n",
      "array([[0, 1, 2, 0, 1, 2],\n",
      "       [0, 1, 2, 0, 1, 2]])\n",
      ">>> np.tile(a, (2, 1, 2))\n",
      "array([[[0, 1, 2, 0, 1, 2]],\n",
      "       [[0, 1, 2, 0, 1, 2]]])\n",
      "\n",
      ">>> b = np.array([[1, 2], [3, 4]])\n",
      ">>> np.tile(b, 2)\n",
      "array([[1, 2, 1, 2],\n",
      "       [3, 4, 3, 4]])\n",
      ">>> np.tile(b, (2, 1))\n",
      "array([[1, 2],\n",
      "       [3, 4],\n",
      "       [1, 2],\n",
      "       [3, 4]])\n",
      "\n",
      ">>> c = np.array([1,2,3,4])\n",
      ">>> np.tile(c,(4,1))\n",
      "array([[1, 2, 3, 4],\n",
      "       [1, 2, 3, 4],\n",
      "       [1, 2, 3, 4],\n",
      "       [1, 2, 3, 4]])\n"
     ]
    }
   ],
   "source": [
    "np.info(np.tile)"
   ]
  },
  {
   "cell_type": "markdown",
   "metadata": {},
   "source": [
    "#### 22. Normalize a 5x5 random matrix (★☆☆)"
   ]
  },
  {
   "cell_type": "code",
   "execution_count": 28,
   "metadata": {},
   "outputs": [
    {
     "data": {
      "text/plain": [
       "array([[ 1.24296599, -0.87008806, -1.12874807,  1.72628527,  0.22946545],\n",
       "       [ 1.16358591,  0.51206212,  1.12992738,  0.16934378, -0.30157645],\n",
       "       [-0.25969589,  0.18068106,  0.2389416 , -1.86308321, -1.48627641],\n",
       "       [-0.84121169,  0.39149584,  1.09604719, -1.58720544,  1.57876599],\n",
       "       [-0.16778639,  0.52297204, -0.39975724, -1.41008104,  0.13297028]])"
      ]
     },
     "execution_count": 28,
     "metadata": {},
     "output_type": "execute_result"
    }
   ],
   "source": [
    "vector = np.random.rand(5, 5)\n",
    "vector = (vector - vector.mean())/vector.std()\n",
    "vector"
   ]
  },
  {
   "cell_type": "markdown",
   "metadata": {},
   "source": [
    "#### 23. Create a custom dtype that describes a color as four unsigned bytes (RGBA) (★☆☆)"
   ]
  },
  {
   "cell_type": "code",
   "execution_count": 29,
   "metadata": {},
   "outputs": [],
   "source": [
    "color = np.dtype([\n",
    "    (\"r\", np.ubyte),\n",
    "    (\"g\", np.ubyte),\n",
    "    (\"b\", np.ubyte),\n",
    "    (\"a\", np.ubyte)\n",
    "])"
   ]
  },
  {
   "cell_type": "markdown",
   "metadata": {},
   "source": [
    "#### 24. Multiply a 5x3 matrix by a 3x2 matrix (real matrix product) (★☆☆)"
   ]
  },
  {
   "cell_type": "code",
   "execution_count": 30,
   "metadata": {},
   "outputs": [
    {
     "data": {
      "text/plain": [
       "array([[0.68179434, 0.95895117],\n",
       "       [0.97323501, 1.28125595],\n",
       "       [0.87279673, 1.03783477],\n",
       "       [1.18813769, 1.53176948],\n",
       "       [0.56353508, 0.7291263 ]])"
      ]
     },
     "execution_count": 30,
     "metadata": {},
     "output_type": "execute_result"
    }
   ],
   "source": [
    "m1 = np.random.rand(5, 3)\n",
    "m2 = np.random.rand(3, 2)\n",
    "res = m1.dot(m2)\n",
    "res"
   ]
  },
  {
   "cell_type": "markdown",
   "metadata": {},
   "source": [
    "#### 25. Given a 1D array, negate all elements which are between 3 and 8, in place. (★☆☆)"
   ]
  },
  {
   "cell_type": "code",
   "execution_count": 31,
   "metadata": {},
   "outputs": [
    {
     "data": {
      "text/plain": [
       "array([ 0,  1,  2,  3, -4, -5, -6, -7,  8,  9])"
      ]
     },
     "execution_count": 31,
     "metadata": {},
     "output_type": "execute_result"
    }
   ],
   "source": [
    "vector = np.arange(10)\n",
    "mask = 3<vector\n",
    "vector[mask & (vector<8)] *= -1\n",
    "vector"
   ]
  },
  {
   "cell_type": "markdown",
   "metadata": {},
   "source": [
    "#### 26. What is the output of the following script? (★☆☆)\n",
    "```python\n",
    "# Author: Jake VanderPlas\n",
    "\n",
    "print(sum(range(5),-1))\n",
    "from numpy import *\n",
    "print(sum(range(5),-1))\n",
    "```"
   ]
  },
  {
   "cell_type": "code",
   "execution_count": 32,
   "metadata": {},
   "outputs": [
    {
     "name": "stdout",
     "output_type": "stream",
     "text": [
      "9\n",
      "10\n"
     ]
    }
   ],
   "source": [
    "print(sum(range(5),-1))\n",
    "from numpy import *\n",
    "print(sum(range(5),-1))"
   ]
  },
  {
   "cell_type": "markdown",
   "metadata": {},
   "source": [
    "#### 27. Consider an integer vector Z, which of these expressions are legal? (★☆☆)\n",
    "```python\n",
    "Z**Z\n",
    "2 << Z >> 2\n",
    "Z <- Z\n",
    "1j*Z\n",
    "Z/1/1\n",
    "Z<Z>Z\n",
    "```"
   ]
  },
  {
   "cell_type": "code",
   "execution_count": 33,
   "metadata": {},
   "outputs": [
    {
     "data": {
      "text/plain": [
       "array([0., 1., 2., 3., 4., 5., 6., 7., 8., 9.])"
      ]
     },
     "execution_count": 33,
     "metadata": {},
     "output_type": "execute_result"
    }
   ],
   "source": [
    "Z = np.arange(10)\n",
    "Z**Z\n",
    "2 << Z >> 2\n",
    "Z <- Z\n",
    "1j*Z\n",
    "Z/1/1\n",
    "# Z<Z>Z legal"
   ]
  },
  {
   "cell_type": "markdown",
   "metadata": {},
   "source": [
    "#### 28. What are the result of the following expressions?\n",
    "```python\n",
    "np.array(0) / np.array(0)\n",
    "np.array(0) // np.array(0)\n",
    "np.array([np.nan]).astype(int).astype(float)\n",
    "```"
   ]
  },
  {
   "cell_type": "code",
   "execution_count": 34,
   "metadata": {},
   "outputs": [
    {
     "name": "stderr",
     "output_type": "stream",
     "text": [
      "C:\\Users\\rjsdl\\Anaconda3\\lib\\site-packages\\ipykernel_launcher.py:1: RuntimeWarning: invalid value encountered in true_divide\n",
      "  \"\"\"Entry point for launching an IPython kernel.\n",
      "C:\\Users\\rjsdl\\Anaconda3\\lib\\site-packages\\ipykernel_launcher.py:2: RuntimeWarning: divide by zero encountered in floor_divide\n",
      "  \n"
     ]
    },
    {
     "data": {
      "text/plain": [
       "array([-2.14748365e+09])"
      ]
     },
     "execution_count": 34,
     "metadata": {},
     "output_type": "execute_result"
    }
   ],
   "source": [
    "print(np.array(0) / np.array(0))\n",
    "print(np.array(0) // np.array(0))\n",
    "print(np.array([np.nan]).astype(int).astype(float))"
   ]
  },
  {
   "cell_type": "markdown",
   "metadata": {},
   "source": [
    "#### 29. How to round away from zero a float array ? (★☆☆)"
   ]
  },
  {
   "cell_type": "code",
   "execution_count": 35,
   "metadata": {},
   "outputs": [
    {
     "name": "stdout",
     "output_type": "stream",
     "text": [
      "[-9.0356178  -9.00112724  7.19347879 -7.94170765  8.13548773 -9.37418941\n",
      "  6.5005273   4.92580403 -4.25233098  0.09066067]\n",
      "[-10. -10.   8.  -8.   9. -10.   7.   5.  -5.   1.]\n"
     ]
    }
   ],
   "source": [
    "v = np.random.uniform(-10, 10, 10)\n",
    "print(v)\n",
    "print(np.copysign(np.ceil(np.abs(v)), v))"
   ]
  },
  {
   "cell_type": "markdown",
   "metadata": {},
   "source": [
    "#### 30. How to find common values between two arrays? (★☆☆)"
   ]
  },
  {
   "cell_type": "code",
   "execution_count": 36,
   "metadata": {},
   "outputs": [
    {
     "name": "stdout",
     "output_type": "stream",
     "text": [
      "v1 :  [9 2 9 2 2]\n",
      "v2 :  [4 5 2 1]\n"
     ]
    },
    {
     "data": {
      "text/plain": [
       "array([2])"
      ]
     },
     "execution_count": 36,
     "metadata": {},
     "output_type": "execute_result"
    }
   ],
   "source": [
    "v1 = np.random.randint(1, 10, 5)\n",
    "v2 = np.random.randint(1, 10, 4)\n",
    "intersect = np.intersect1d(v1, v2)\n",
    "print('v1 : ', v1)\n",
    "print('v2 : ', v2)\n",
    "intersect"
   ]
  },
  {
   "cell_type": "markdown",
   "metadata": {},
   "source": [
    "#### 31. How to ignore all numpy warnings (not recommended)? (★☆☆)"
   ]
  },
  {
   "cell_type": "code",
   "execution_count": null,
   "metadata": {},
   "outputs": [],
   "source": []
  },
  {
   "cell_type": "markdown",
   "metadata": {},
   "source": [
    "#### 32. Is the following expressions true? (★☆☆)\n",
    "```python\n",
    "np.sqrt(-1) == np.emath.sqrt(-1)\n",
    "```"
   ]
  },
  {
   "cell_type": "code",
   "execution_count": null,
   "metadata": {},
   "outputs": [],
   "source": []
  },
  {
   "cell_type": "markdown",
   "metadata": {},
   "source": [
    "#### 33. How to get the dates of yesterday, today and tomorrow? (★☆☆)"
   ]
  },
  {
   "cell_type": "code",
   "execution_count": null,
   "metadata": {},
   "outputs": [],
   "source": []
  },
  {
   "cell_type": "markdown",
   "metadata": {},
   "source": [
    "#### 34. How to get all the dates corresponding to the month of July 2016? (★★☆)"
   ]
  },
  {
   "cell_type": "code",
   "execution_count": null,
   "metadata": {},
   "outputs": [],
   "source": []
  },
  {
   "cell_type": "markdown",
   "metadata": {},
   "source": [
    "#### 35. How to compute ((A+B)*(-A/2)) in place (without copy)? (★★☆)"
   ]
  },
  {
   "cell_type": "code",
   "execution_count": null,
   "metadata": {},
   "outputs": [],
   "source": []
  },
  {
   "cell_type": "markdown",
   "metadata": {},
   "source": [
    "#### 36. Extract the integer part of a random array of positive numbers using 4 different methods (★★☆)"
   ]
  },
  {
   "cell_type": "code",
   "execution_count": null,
   "metadata": {},
   "outputs": [],
   "source": []
  },
  {
   "cell_type": "markdown",
   "metadata": {},
   "source": [
    "#### 37. Create a 5x5 matrix with row values ranging from 0 to 4 (★★☆)"
   ]
  },
  {
   "cell_type": "code",
   "execution_count": null,
   "metadata": {},
   "outputs": [],
   "source": []
  },
  {
   "cell_type": "markdown",
   "metadata": {},
   "source": [
    "#### 38. Consider a generator function that generates 10 integers and use it to build an array (★☆☆)"
   ]
  },
  {
   "cell_type": "code",
   "execution_count": null,
   "metadata": {},
   "outputs": [],
   "source": []
  },
  {
   "cell_type": "markdown",
   "metadata": {},
   "source": [
    "#### 39. Create a vector of size 10 with values ranging from 0 to 1, both excluded (★★☆)"
   ]
  },
  {
   "cell_type": "code",
   "execution_count": null,
   "metadata": {},
   "outputs": [],
   "source": []
  },
  {
   "cell_type": "markdown",
   "metadata": {},
   "source": [
    "#### 40. Create a random vector of size 10 and sort it (★★☆)"
   ]
  },
  {
   "cell_type": "code",
   "execution_count": null,
   "metadata": {},
   "outputs": [],
   "source": []
  },
  {
   "cell_type": "markdown",
   "metadata": {},
   "source": [
    "#### 41. How to sum a small array faster than np.sum? (★★☆)"
   ]
  },
  {
   "cell_type": "code",
   "execution_count": null,
   "metadata": {},
   "outputs": [],
   "source": []
  },
  {
   "cell_type": "markdown",
   "metadata": {},
   "source": [
    "#### 42. Consider two random array A and B, check if they are equal (★★☆)"
   ]
  },
  {
   "cell_type": "code",
   "execution_count": null,
   "metadata": {},
   "outputs": [],
   "source": []
  },
  {
   "cell_type": "markdown",
   "metadata": {},
   "source": [
    "#### 43. Make an array immutable (read-only) (★★☆)"
   ]
  },
  {
   "cell_type": "code",
   "execution_count": null,
   "metadata": {},
   "outputs": [],
   "source": []
  },
  {
   "cell_type": "markdown",
   "metadata": {},
   "source": [
    "#### 44. Consider a random 10x2 matrix representing cartesian coordinates, convert them to polar coordinates (★★☆)"
   ]
  },
  {
   "cell_type": "code",
   "execution_count": null,
   "metadata": {},
   "outputs": [],
   "source": []
  },
  {
   "cell_type": "markdown",
   "metadata": {},
   "source": [
    "#### 45. Create random vector of size 10 and replace the maximum value by 0 (★★☆)"
   ]
  },
  {
   "cell_type": "code",
   "execution_count": null,
   "metadata": {},
   "outputs": [],
   "source": []
  },
  {
   "cell_type": "markdown",
   "metadata": {},
   "source": [
    "#### 46. Create a structured array with `x` and `y` coordinates covering the [0,1]x[0,1] area (★★☆)"
   ]
  },
  {
   "cell_type": "code",
   "execution_count": null,
   "metadata": {},
   "outputs": [],
   "source": []
  },
  {
   "cell_type": "markdown",
   "metadata": {},
   "source": [
    "#### 47. Given two arrays, X and Y, construct the Cauchy matrix C (Cij =1/(xi - yj))"
   ]
  },
  {
   "cell_type": "code",
   "execution_count": null,
   "metadata": {},
   "outputs": [],
   "source": []
  },
  {
   "cell_type": "markdown",
   "metadata": {},
   "source": [
    "#### 48. Print the minimum and maximum representable value for each numpy scalar type (★★☆)"
   ]
  },
  {
   "cell_type": "code",
   "execution_count": null,
   "metadata": {},
   "outputs": [],
   "source": []
  },
  {
   "cell_type": "markdown",
   "metadata": {},
   "source": [
    "#### 49. How to print all the values of an array? (★★☆)"
   ]
  },
  {
   "cell_type": "code",
   "execution_count": null,
   "metadata": {},
   "outputs": [],
   "source": []
  },
  {
   "cell_type": "markdown",
   "metadata": {},
   "source": [
    "#### 50. How to find the closest value (to a given scalar) in a vector? (★★☆)"
   ]
  },
  {
   "cell_type": "code",
   "execution_count": null,
   "metadata": {},
   "outputs": [],
   "source": []
  },
  {
   "cell_type": "markdown",
   "metadata": {},
   "source": [
    "#### 51. Create a structured array representing a position (x,y) and a color (r,g,b) (★★☆)"
   ]
  },
  {
   "cell_type": "code",
   "execution_count": null,
   "metadata": {},
   "outputs": [],
   "source": []
  },
  {
   "cell_type": "markdown",
   "metadata": {},
   "source": [
    "#### 52. Consider a random vector with shape (100,2) representing coordinates, find point by point distances (★★☆)"
   ]
  },
  {
   "cell_type": "code",
   "execution_count": null,
   "metadata": {},
   "outputs": [],
   "source": []
  },
  {
   "cell_type": "markdown",
   "metadata": {},
   "source": [
    "#### 53. How to convert a float (32 bits) array into an integer (32 bits) in place?"
   ]
  },
  {
   "cell_type": "code",
   "execution_count": null,
   "metadata": {},
   "outputs": [],
   "source": []
  },
  {
   "cell_type": "markdown",
   "metadata": {},
   "source": [
    "#### 54. How to read the following file? (★★☆)\n",
    "```\n",
    "1, 2, 3, 4, 5\n",
    "6,  ,  , 7, 8\n",
    " ,  , 9,10,11\n",
    "```"
   ]
  },
  {
   "cell_type": "code",
   "execution_count": null,
   "metadata": {},
   "outputs": [],
   "source": []
  },
  {
   "cell_type": "markdown",
   "metadata": {},
   "source": [
    "#### 55. What is the equivalent of enumerate for numpy arrays? (★★☆)"
   ]
  },
  {
   "cell_type": "code",
   "execution_count": null,
   "metadata": {},
   "outputs": [],
   "source": []
  },
  {
   "cell_type": "markdown",
   "metadata": {},
   "source": [
    "#### 56. Generate a generic 2D Gaussian-like array (★★☆)"
   ]
  },
  {
   "cell_type": "code",
   "execution_count": null,
   "metadata": {},
   "outputs": [],
   "source": []
  },
  {
   "cell_type": "markdown",
   "metadata": {},
   "source": [
    "#### 57. How to randomly place p elements in a 2D array? (★★☆)"
   ]
  },
  {
   "cell_type": "code",
   "execution_count": null,
   "metadata": {},
   "outputs": [],
   "source": []
  },
  {
   "cell_type": "markdown",
   "metadata": {},
   "source": [
    "#### 58. Subtract the mean of each row of a matrix (★★☆)"
   ]
  },
  {
   "cell_type": "code",
   "execution_count": null,
   "metadata": {},
   "outputs": [],
   "source": []
  },
  {
   "cell_type": "markdown",
   "metadata": {},
   "source": [
    "#### 59. How to sort an array by the nth column? (★★☆)"
   ]
  },
  {
   "cell_type": "code",
   "execution_count": null,
   "metadata": {},
   "outputs": [],
   "source": []
  },
  {
   "cell_type": "markdown",
   "metadata": {},
   "source": [
    "#### 60. How to tell if a given 2D array has null columns? (★★☆)"
   ]
  },
  {
   "cell_type": "code",
   "execution_count": null,
   "metadata": {},
   "outputs": [],
   "source": []
  },
  {
   "cell_type": "markdown",
   "metadata": {},
   "source": [
    "#### 61. Find the nearest value from a given value in an array (★★☆)"
   ]
  },
  {
   "cell_type": "code",
   "execution_count": null,
   "metadata": {},
   "outputs": [],
   "source": []
  },
  {
   "cell_type": "markdown",
   "metadata": {},
   "source": [
    "#### 62. Considering two arrays with shape (1,3) and (3,1), how to compute their sum using an iterator? (★★☆)"
   ]
  },
  {
   "cell_type": "code",
   "execution_count": null,
   "metadata": {},
   "outputs": [],
   "source": []
  },
  {
   "cell_type": "markdown",
   "metadata": {},
   "source": [
    "#### 63. Create an array class that has a name attribute (★★☆)"
   ]
  },
  {
   "cell_type": "code",
   "execution_count": null,
   "metadata": {},
   "outputs": [],
   "source": []
  },
  {
   "cell_type": "markdown",
   "metadata": {},
   "source": [
    "#### 64. Consider a given vector, how to add 1 to each element indexed by a second vector (be careful with repeated indices)? (★★★)"
   ]
  },
  {
   "cell_type": "code",
   "execution_count": null,
   "metadata": {},
   "outputs": [],
   "source": []
  },
  {
   "cell_type": "markdown",
   "metadata": {},
   "source": [
    "#### 65. How to accumulate elements of a vector (X) to an array (F) based on an index list (I)? (★★★)"
   ]
  },
  {
   "cell_type": "code",
   "execution_count": null,
   "metadata": {},
   "outputs": [],
   "source": []
  },
  {
   "cell_type": "markdown",
   "metadata": {},
   "source": [
    "#### 66. Considering a (w,h,3) image of (dtype=ubyte), compute the number of unique colors (★★★)"
   ]
  },
  {
   "cell_type": "code",
   "execution_count": null,
   "metadata": {},
   "outputs": [],
   "source": []
  },
  {
   "cell_type": "markdown",
   "metadata": {},
   "source": [
    "#### 67. Considering a four dimensions array, how to get sum over the last two axis at once? (★★★)"
   ]
  },
  {
   "cell_type": "code",
   "execution_count": null,
   "metadata": {},
   "outputs": [],
   "source": []
  },
  {
   "cell_type": "markdown",
   "metadata": {},
   "source": [
    "#### 68. Considering a one-dimensional vector D, how to compute means of subsets of D using a vector S of same size describing subset  indices? (★★★)"
   ]
  },
  {
   "cell_type": "code",
   "execution_count": null,
   "metadata": {},
   "outputs": [],
   "source": []
  },
  {
   "cell_type": "markdown",
   "metadata": {},
   "source": [
    "#### 69. How to get the diagonal of a dot product? (★★★)"
   ]
  },
  {
   "cell_type": "code",
   "execution_count": null,
   "metadata": {},
   "outputs": [],
   "source": []
  },
  {
   "cell_type": "markdown",
   "metadata": {},
   "source": [
    "#### 70. Consider the vector [1, 2, 3, 4, 5], how to build a new vector with 3 consecutive zeros interleaved between each value? (★★★)"
   ]
  },
  {
   "cell_type": "code",
   "execution_count": null,
   "metadata": {},
   "outputs": [],
   "source": []
  },
  {
   "cell_type": "markdown",
   "metadata": {},
   "source": [
    "#### 71. Consider an array of dimension (5,5,3), how to mulitply it by an array with dimensions (5,5)? (★★★)"
   ]
  },
  {
   "cell_type": "code",
   "execution_count": null,
   "metadata": {},
   "outputs": [],
   "source": []
  },
  {
   "cell_type": "markdown",
   "metadata": {},
   "source": [
    "#### 72. How to swap two rows of an array? (★★★)"
   ]
  },
  {
   "cell_type": "code",
   "execution_count": null,
   "metadata": {},
   "outputs": [],
   "source": []
  },
  {
   "cell_type": "markdown",
   "metadata": {},
   "source": [
    "#### 73. Consider a set of 10 triplets describing 10 triangles (with shared vertices), find the set of unique line segments composing all the  triangles (★★★)"
   ]
  },
  {
   "cell_type": "code",
   "execution_count": null,
   "metadata": {},
   "outputs": [],
   "source": []
  },
  {
   "cell_type": "markdown",
   "metadata": {},
   "source": [
    "#### 74. Given an array C that is a bincount, how to produce an array A such that np.bincount(A) == C? (★★★)"
   ]
  },
  {
   "cell_type": "code",
   "execution_count": null,
   "metadata": {},
   "outputs": [],
   "source": []
  },
  {
   "cell_type": "markdown",
   "metadata": {},
   "source": [
    "#### 75. How to compute averages using a sliding window over an array? (★★★)"
   ]
  },
  {
   "cell_type": "code",
   "execution_count": null,
   "metadata": {},
   "outputs": [],
   "source": []
  },
  {
   "cell_type": "markdown",
   "metadata": {},
   "source": [
    "#### 76. Consider a one-dimensional array Z, build a two-dimensional array whose first row is (Z[0],Z[1],Z[2]) and each subsequent row is  shifted by 1 (last row should be (Z[-3],Z[-2],Z[-1]) (★★★)"
   ]
  },
  {
   "cell_type": "code",
   "execution_count": null,
   "metadata": {},
   "outputs": [],
   "source": []
  },
  {
   "cell_type": "markdown",
   "metadata": {},
   "source": [
    "#### 77. How to negate a boolean, or to change the sign of a float inplace? (★★★)"
   ]
  },
  {
   "cell_type": "code",
   "execution_count": null,
   "metadata": {},
   "outputs": [],
   "source": []
  },
  {
   "cell_type": "markdown",
   "metadata": {},
   "source": [
    "#### 78. Consider 2 sets of points P0,P1 describing lines (2d) and a point p, how to compute distance from p to each line i (P0[i],P1[i])? (★★★)"
   ]
  },
  {
   "cell_type": "code",
   "execution_count": null,
   "metadata": {},
   "outputs": [],
   "source": []
  },
  {
   "cell_type": "markdown",
   "metadata": {},
   "source": [
    "#### 79. Consider 2 sets of points P0,P1 describing lines (2d) and a set of points P, how to compute distance from each point j (P[j]) to each line i (P0[i],P1[i])? (★★★)"
   ]
  },
  {
   "cell_type": "code",
   "execution_count": null,
   "metadata": {},
   "outputs": [],
   "source": []
  },
  {
   "cell_type": "markdown",
   "metadata": {},
   "source": [
    "#### 80. Consider an arbitrary array, write a function that extract a subpart with a fixed shape and centered on a given element (pad with a `fill` value when necessary) (★★★)"
   ]
  },
  {
   "cell_type": "code",
   "execution_count": null,
   "metadata": {},
   "outputs": [],
   "source": []
  },
  {
   "cell_type": "markdown",
   "metadata": {},
   "source": [
    "#### 81. Consider an array Z = [1,2,3,4,5,6,7,8,9,10,11,12,13,14], how to generate an array R = [[1,2,3,4], [2,3,4,5], [3,4,5,6], ..., [11,12,13,14]]? (★★★)"
   ]
  },
  {
   "cell_type": "code",
   "execution_count": null,
   "metadata": {},
   "outputs": [],
   "source": []
  },
  {
   "cell_type": "markdown",
   "metadata": {},
   "source": [
    "#### 82. Compute a matrix rank (★★★)"
   ]
  },
  {
   "cell_type": "code",
   "execution_count": null,
   "metadata": {},
   "outputs": [],
   "source": []
  },
  {
   "cell_type": "markdown",
   "metadata": {},
   "source": [
    "#### 83. How to find the most frequent value in an array?"
   ]
  },
  {
   "cell_type": "code",
   "execution_count": null,
   "metadata": {},
   "outputs": [],
   "source": []
  },
  {
   "cell_type": "markdown",
   "metadata": {},
   "source": [
    "#### 84. Extract all the contiguous 3x3 blocks from a random 10x10 matrix (★★★)"
   ]
  },
  {
   "cell_type": "code",
   "execution_count": null,
   "metadata": {},
   "outputs": [],
   "source": []
  },
  {
   "cell_type": "markdown",
   "metadata": {},
   "source": [
    "#### 85. Create a 2D array subclass such that Z[i,j] == Z[j,i] (★★★)"
   ]
  },
  {
   "cell_type": "code",
   "execution_count": null,
   "metadata": {},
   "outputs": [],
   "source": []
  },
  {
   "cell_type": "markdown",
   "metadata": {},
   "source": [
    "#### 86. Consider a set of p matrices wich shape (n,n) and a set of p vectors with shape (n,1). How to compute the sum of of the p matrix products at once? (result has shape (n,1)) (★★★)"
   ]
  },
  {
   "cell_type": "code",
   "execution_count": null,
   "metadata": {},
   "outputs": [],
   "source": []
  },
  {
   "cell_type": "markdown",
   "metadata": {},
   "source": [
    "#### 87. Consider a 16x16 array, how to get the block-sum (block size is 4x4)? (★★★)"
   ]
  },
  {
   "cell_type": "code",
   "execution_count": null,
   "metadata": {},
   "outputs": [],
   "source": []
  },
  {
   "cell_type": "markdown",
   "metadata": {},
   "source": [
    "#### 88. How to implement the Game of Life using numpy arrays? (★★★)"
   ]
  },
  {
   "cell_type": "code",
   "execution_count": null,
   "metadata": {},
   "outputs": [],
   "source": []
  },
  {
   "cell_type": "markdown",
   "metadata": {},
   "source": [
    "#### 89. How to get the n largest values of an array (★★★)"
   ]
  },
  {
   "cell_type": "code",
   "execution_count": null,
   "metadata": {},
   "outputs": [],
   "source": []
  },
  {
   "cell_type": "markdown",
   "metadata": {},
   "source": [
    "#### 90. Given an arbitrary number of vectors, build the cartesian product (every combinations of every item) (★★★)"
   ]
  },
  {
   "cell_type": "code",
   "execution_count": null,
   "metadata": {},
   "outputs": [],
   "source": []
  },
  {
   "cell_type": "markdown",
   "metadata": {},
   "source": [
    "#### 91. How to create a record array from a regular array? (★★★)"
   ]
  },
  {
   "cell_type": "code",
   "execution_count": null,
   "metadata": {},
   "outputs": [],
   "source": []
  },
  {
   "cell_type": "markdown",
   "metadata": {},
   "source": [
    "#### 92. Consider a large vector Z, compute Z to the power of 3 using 3 different methods (★★★)"
   ]
  },
  {
   "cell_type": "code",
   "execution_count": null,
   "metadata": {},
   "outputs": [],
   "source": []
  },
  {
   "cell_type": "markdown",
   "metadata": {},
   "source": [
    "#### 93. Consider two arrays A and B of shape (8,3) and (2,2). How to find rows of A that contain elements of each row of B regardless of the order of the elements in B? (★★★)"
   ]
  },
  {
   "cell_type": "code",
   "execution_count": null,
   "metadata": {},
   "outputs": [],
   "source": []
  },
  {
   "cell_type": "markdown",
   "metadata": {},
   "source": [
    "#### 94. Considering a 10x3 matrix, extract rows with unequal values (e.g. [2,2,3]) (★★★)"
   ]
  },
  {
   "cell_type": "code",
   "execution_count": null,
   "metadata": {},
   "outputs": [],
   "source": []
  },
  {
   "cell_type": "markdown",
   "metadata": {},
   "source": [
    "#### 95. Convert a vector of ints into a matrix binary representation (★★★)"
   ]
  },
  {
   "cell_type": "code",
   "execution_count": null,
   "metadata": {},
   "outputs": [],
   "source": []
  },
  {
   "cell_type": "markdown",
   "metadata": {},
   "source": [
    "#### 96. Given a two dimensional array, how to extract unique rows? (★★★)"
   ]
  },
  {
   "cell_type": "code",
   "execution_count": null,
   "metadata": {},
   "outputs": [],
   "source": []
  },
  {
   "cell_type": "markdown",
   "metadata": {},
   "source": [
    "#### 97. Considering 2 vectors A & B, write the einsum equivalent of inner, outer, sum, and mul function (★★★)"
   ]
  },
  {
   "cell_type": "code",
   "execution_count": null,
   "metadata": {},
   "outputs": [],
   "source": []
  },
  {
   "cell_type": "markdown",
   "metadata": {},
   "source": [
    "#### 98. Considering a path described by two vectors (X,Y), how to sample it using equidistant samples (★★★)?"
   ]
  },
  {
   "cell_type": "code",
   "execution_count": null,
   "metadata": {},
   "outputs": [],
   "source": []
  },
  {
   "cell_type": "markdown",
   "metadata": {},
   "source": [
    "#### 99. Given an integer n and a 2D array X, select from X the rows which can be interpreted as draws from a multinomial distribution with n degrees, i.e., the rows which only contain integers and which sum to n. (★★★)"
   ]
  },
  {
   "cell_type": "code",
   "execution_count": null,
   "metadata": {},
   "outputs": [],
   "source": []
  },
  {
   "cell_type": "markdown",
   "metadata": {},
   "source": [
    "#### 100. Compute bootstrapped 95% confidence intervals for the mean of a 1D array X (i.e., resample the elements of an array with replacement N times, compute the mean of each sample, and then compute percentiles over the means). (★★★)"
   ]
  },
  {
   "cell_type": "code",
   "execution_count": null,
   "metadata": {},
   "outputs": [],
   "source": []
  }
 ],
 "metadata": {
  "kernelspec": {
   "display_name": "Python 3",
   "language": "python",
   "name": "python3"
  },
  "language_info": {
   "codemirror_mode": {
    "name": "ipython",
    "version": 3
   },
   "file_extension": ".py",
   "mimetype": "text/x-python",
   "name": "python",
   "nbconvert_exporter": "python",
   "pygments_lexer": "ipython3",
   "version": "3.7.5"
  }
 },
 "nbformat": 4,
 "nbformat_minor": 4
}
